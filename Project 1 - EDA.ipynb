{
 "cells": [
  {
   "cell_type": "markdown",
   "id": "86862c1b",
   "metadata": {},
   "source": [
    "# Project: Exploratory Data Analytics (EDA) for Heart Failure Dataset"
   ]
  },
  {
   "cell_type": "code",
   "execution_count": 180,
   "id": "56e51b58",
   "metadata": {},
   "outputs": [],
   "source": [
    "# Importing needed libraries\n",
    "import pandas as pd\n",
    "import numpy as np\n",
    "import matplotlib.pyplot as plt\n",
    "import seaborn as sns\n",
    "%matplotlib inline"
   ]
  },
  {
   "cell_type": "code",
   "execution_count": 9,
   "id": "2784cd5f",
   "metadata": {},
   "outputs": [
    {
     "data": {
      "text/html": [
       "<div>\n",
       "<style scoped>\n",
       "    .dataframe tbody tr th:only-of-type {\n",
       "        vertical-align: middle;\n",
       "    }\n",
       "\n",
       "    .dataframe tbody tr th {\n",
       "        vertical-align: top;\n",
       "    }\n",
       "\n",
       "    .dataframe thead th {\n",
       "        text-align: right;\n",
       "    }\n",
       "</style>\n",
       "<table border=\"1\" class=\"dataframe\">\n",
       "  <thead>\n",
       "    <tr style=\"text-align: right;\">\n",
       "      <th></th>\n",
       "      <th>Age</th>\n",
       "      <th>Sex</th>\n",
       "      <th>ChestPainType</th>\n",
       "      <th>RestingBP</th>\n",
       "      <th>Cholesterol</th>\n",
       "      <th>FastingBS</th>\n",
       "      <th>RestingECG</th>\n",
       "      <th>MaxHR</th>\n",
       "      <th>ExerciseAngina</th>\n",
       "      <th>Oldpeak</th>\n",
       "      <th>ST_Slope</th>\n",
       "      <th>HeartDisease</th>\n",
       "    </tr>\n",
       "  </thead>\n",
       "  <tbody>\n",
       "    <tr>\n",
       "      <th>0</th>\n",
       "      <td>40</td>\n",
       "      <td>M</td>\n",
       "      <td>ATA</td>\n",
       "      <td>140</td>\n",
       "      <td>289</td>\n",
       "      <td>0</td>\n",
       "      <td>Normal</td>\n",
       "      <td>172</td>\n",
       "      <td>N</td>\n",
       "      <td>0.0</td>\n",
       "      <td>Up</td>\n",
       "      <td>0</td>\n",
       "    </tr>\n",
       "    <tr>\n",
       "      <th>1</th>\n",
       "      <td>49</td>\n",
       "      <td>F</td>\n",
       "      <td>NAP</td>\n",
       "      <td>160</td>\n",
       "      <td>180</td>\n",
       "      <td>0</td>\n",
       "      <td>Normal</td>\n",
       "      <td>156</td>\n",
       "      <td>N</td>\n",
       "      <td>1.0</td>\n",
       "      <td>Flat</td>\n",
       "      <td>1</td>\n",
       "    </tr>\n",
       "    <tr>\n",
       "      <th>2</th>\n",
       "      <td>37</td>\n",
       "      <td>M</td>\n",
       "      <td>ATA</td>\n",
       "      <td>130</td>\n",
       "      <td>283</td>\n",
       "      <td>0</td>\n",
       "      <td>ST</td>\n",
       "      <td>98</td>\n",
       "      <td>N</td>\n",
       "      <td>0.0</td>\n",
       "      <td>Up</td>\n",
       "      <td>0</td>\n",
       "    </tr>\n",
       "    <tr>\n",
       "      <th>3</th>\n",
       "      <td>48</td>\n",
       "      <td>F</td>\n",
       "      <td>ASY</td>\n",
       "      <td>138</td>\n",
       "      <td>214</td>\n",
       "      <td>0</td>\n",
       "      <td>Normal</td>\n",
       "      <td>108</td>\n",
       "      <td>Y</td>\n",
       "      <td>1.5</td>\n",
       "      <td>Flat</td>\n",
       "      <td>1</td>\n",
       "    </tr>\n",
       "    <tr>\n",
       "      <th>4</th>\n",
       "      <td>54</td>\n",
       "      <td>M</td>\n",
       "      <td>NAP</td>\n",
       "      <td>150</td>\n",
       "      <td>195</td>\n",
       "      <td>0</td>\n",
       "      <td>Normal</td>\n",
       "      <td>122</td>\n",
       "      <td>N</td>\n",
       "      <td>0.0</td>\n",
       "      <td>Up</td>\n",
       "      <td>0</td>\n",
       "    </tr>\n",
       "  </tbody>\n",
       "</table>\n",
       "</div>"
      ],
      "text/plain": [
       "   Age Sex ChestPainType  RestingBP  Cholesterol  FastingBS RestingECG  MaxHR  \\\n",
       "0   40   M           ATA        140          289          0     Normal    172   \n",
       "1   49   F           NAP        160          180          0     Normal    156   \n",
       "2   37   M           ATA        130          283          0         ST     98   \n",
       "3   48   F           ASY        138          214          0     Normal    108   \n",
       "4   54   M           NAP        150          195          0     Normal    122   \n",
       "\n",
       "  ExerciseAngina  Oldpeak ST_Slope  HeartDisease  \n",
       "0              N      0.0       Up             0  \n",
       "1              N      1.0     Flat             1  \n",
       "2              N      0.0       Up             0  \n",
       "3              Y      1.5     Flat             1  \n",
       "4              N      0.0       Up             0  "
      ]
     },
     "execution_count": 9,
     "metadata": {},
     "output_type": "execute_result"
    }
   ],
   "source": [
    "# Reading and Loading the dateset into a DataFrame\n",
    "df = pd.read_csv(\"heart.csv\")\n",
    "df.head()"
   ]
  },
  {
   "cell_type": "code",
   "execution_count": 167,
   "id": "15fe8da0",
   "metadata": {},
   "outputs": [
    {
     "name": "stdout",
     "output_type": "stream",
     "text": [
      "<class 'pandas.core.frame.DataFrame'>\n",
      "RangeIndex: 918 entries, 0 to 917\n",
      "Data columns (total 12 columns):\n",
      " #   Column           Non-Null Count  Dtype  \n",
      "---  ------           --------------  -----  \n",
      " 0   Age              918 non-null    int64  \n",
      " 1   Sex              918 non-null    object \n",
      " 2   Chest_Pain_Type  918 non-null    object \n",
      " 3   Resting_BP       918 non-null    int64  \n",
      " 4   Cholesterol      918 non-null    int64  \n",
      " 5   Fasting_BS       918 non-null    int64  \n",
      " 6   Resting_ECG      918 non-null    object \n",
      " 7   Max_HeartRate    918 non-null    int64  \n",
      " 8   Exercise_Angina  918 non-null    object \n",
      " 9   Oldpeak          918 non-null    float64\n",
      " 10  ST Slope         918 non-null    object \n",
      " 11  Heart_Disease    918 non-null    object \n",
      "dtypes: float64(1), int64(5), object(6)\n",
      "memory usage: 86.2+ KB\n"
     ]
    }
   ],
   "source": [
    "df.info()"
   ]
  },
  {
   "cell_type": "code",
   "execution_count": 172,
   "id": "6497d0f1",
   "metadata": {},
   "outputs": [
    {
     "data": {
      "text/plain": [
       "(918, 12)"
      ]
     },
     "execution_count": 172,
     "metadata": {},
     "output_type": "execute_result"
    }
   ],
   "source": [
    "df.shape"
   ]
  },
  {
   "cell_type": "code",
   "execution_count": 12,
   "id": "2e6e5dcb",
   "metadata": {},
   "outputs": [],
   "source": [
    "# Change 1 and 0 from the HeartDisease to Sick and Healthy\n",
    "df.loc[df['HeartDisease'] == 1, 'HeartDisease'] = 'Sick'\n",
    "df.loc[df['HeartDisease'] == 0, 'HeartDisease'] = 'Healthy'"
   ]
  },
  {
   "cell_type": "code",
   "execution_count": 13,
   "id": "71352eb2",
   "metadata": {},
   "outputs": [
    {
     "data": {
      "text/html": [
       "<div>\n",
       "<style scoped>\n",
       "    .dataframe tbody tr th:only-of-type {\n",
       "        vertical-align: middle;\n",
       "    }\n",
       "\n",
       "    .dataframe tbody tr th {\n",
       "        vertical-align: top;\n",
       "    }\n",
       "\n",
       "    .dataframe thead th {\n",
       "        text-align: right;\n",
       "    }\n",
       "</style>\n",
       "<table border=\"1\" class=\"dataframe\">\n",
       "  <thead>\n",
       "    <tr style=\"text-align: right;\">\n",
       "      <th></th>\n",
       "      <th>Age</th>\n",
       "      <th>Sex</th>\n",
       "      <th>ChestPainType</th>\n",
       "      <th>RestingBP</th>\n",
       "      <th>Cholesterol</th>\n",
       "      <th>FastingBS</th>\n",
       "      <th>RestingECG</th>\n",
       "      <th>MaxHR</th>\n",
       "      <th>ExerciseAngina</th>\n",
       "      <th>Oldpeak</th>\n",
       "      <th>ST_Slope</th>\n",
       "      <th>HeartDisease</th>\n",
       "    </tr>\n",
       "  </thead>\n",
       "  <tbody>\n",
       "    <tr>\n",
       "      <th>0</th>\n",
       "      <td>40</td>\n",
       "      <td>M</td>\n",
       "      <td>ATA</td>\n",
       "      <td>140</td>\n",
       "      <td>289</td>\n",
       "      <td>0</td>\n",
       "      <td>Normal</td>\n",
       "      <td>172</td>\n",
       "      <td>N</td>\n",
       "      <td>0.0</td>\n",
       "      <td>Up</td>\n",
       "      <td>Healthy</td>\n",
       "    </tr>\n",
       "    <tr>\n",
       "      <th>1</th>\n",
       "      <td>49</td>\n",
       "      <td>F</td>\n",
       "      <td>NAP</td>\n",
       "      <td>160</td>\n",
       "      <td>180</td>\n",
       "      <td>0</td>\n",
       "      <td>Normal</td>\n",
       "      <td>156</td>\n",
       "      <td>N</td>\n",
       "      <td>1.0</td>\n",
       "      <td>Flat</td>\n",
       "      <td>Sick</td>\n",
       "    </tr>\n",
       "    <tr>\n",
       "      <th>2</th>\n",
       "      <td>37</td>\n",
       "      <td>M</td>\n",
       "      <td>ATA</td>\n",
       "      <td>130</td>\n",
       "      <td>283</td>\n",
       "      <td>0</td>\n",
       "      <td>ST</td>\n",
       "      <td>98</td>\n",
       "      <td>N</td>\n",
       "      <td>0.0</td>\n",
       "      <td>Up</td>\n",
       "      <td>Healthy</td>\n",
       "    </tr>\n",
       "    <tr>\n",
       "      <th>3</th>\n",
       "      <td>48</td>\n",
       "      <td>F</td>\n",
       "      <td>ASY</td>\n",
       "      <td>138</td>\n",
       "      <td>214</td>\n",
       "      <td>0</td>\n",
       "      <td>Normal</td>\n",
       "      <td>108</td>\n",
       "      <td>Y</td>\n",
       "      <td>1.5</td>\n",
       "      <td>Flat</td>\n",
       "      <td>Sick</td>\n",
       "    </tr>\n",
       "    <tr>\n",
       "      <th>4</th>\n",
       "      <td>54</td>\n",
       "      <td>M</td>\n",
       "      <td>NAP</td>\n",
       "      <td>150</td>\n",
       "      <td>195</td>\n",
       "      <td>0</td>\n",
       "      <td>Normal</td>\n",
       "      <td>122</td>\n",
       "      <td>N</td>\n",
       "      <td>0.0</td>\n",
       "      <td>Up</td>\n",
       "      <td>Healthy</td>\n",
       "    </tr>\n",
       "  </tbody>\n",
       "</table>\n",
       "</div>"
      ],
      "text/plain": [
       "   Age Sex ChestPainType  RestingBP  Cholesterol  FastingBS RestingECG  MaxHR  \\\n",
       "0   40   M           ATA        140          289          0     Normal    172   \n",
       "1   49   F           NAP        160          180          0     Normal    156   \n",
       "2   37   M           ATA        130          283          0         ST     98   \n",
       "3   48   F           ASY        138          214          0     Normal    108   \n",
       "4   54   M           NAP        150          195          0     Normal    122   \n",
       "\n",
       "  ExerciseAngina  Oldpeak ST_Slope HeartDisease  \n",
       "0              N      0.0       Up      Healthy  \n",
       "1              N      1.0     Flat         Sick  \n",
       "2              N      0.0       Up      Healthy  \n",
       "3              Y      1.5     Flat         Sick  \n",
       "4              N      0.0       Up      Healthy  "
      ]
     },
     "execution_count": 13,
     "metadata": {},
     "output_type": "execute_result"
    }
   ],
   "source": [
    "df.head()"
   ]
  },
  {
   "cell_type": "code",
   "execution_count": 14,
   "id": "77b873ad",
   "metadata": {},
   "outputs": [],
   "source": [
    "# Change 1 and 0 from the HeartDisease to Male and Female\n",
    "df.loc[df['Sex'] == 'M', 'Sex'] = 'male'\n",
    "df.loc[df['Sex'] == 'F', 'Sex'] = 'female' "
   ]
  },
  {
   "cell_type": "code",
   "execution_count": 17,
   "id": "39e3cf80",
   "metadata": {},
   "outputs": [],
   "source": [
    "df.loc[df['ExerciseAngina'] == 'Y', 'ExerciseAngina'] = 'Yes'\n",
    "df.loc[df['ExerciseAngina'] == 'N', 'ExerciseAngina'] = 'No'"
   ]
  },
  {
   "cell_type": "code",
   "execution_count": 19,
   "id": "960b65b5",
   "metadata": {},
   "outputs": [],
   "source": [
    "df = df.rename(columns = {'ChestPainType':'Chest_Pain_Type', \n",
    "                          'RestingBP':'Resting_BP', \n",
    "                          'FastingBS':'Fasting_BS',\n",
    "                          'RestingECG':'Resting_ECG',\n",
    "                          'MaxHR':'Max_HeartRate',\n",
    "                          'ExerciseAngina':'Exercise_Angina',\n",
    "                          'ST_Slope':'ST Slope',\n",
    "                          'HeartDisease':'Heart_Disease'})"
   ]
  },
  {
   "cell_type": "code",
   "execution_count": 20,
   "id": "5bf7607b",
   "metadata": {
    "scrolled": true
   },
   "outputs": [
    {
     "data": {
      "text/html": [
       "<div>\n",
       "<style scoped>\n",
       "    .dataframe tbody tr th:only-of-type {\n",
       "        vertical-align: middle;\n",
       "    }\n",
       "\n",
       "    .dataframe tbody tr th {\n",
       "        vertical-align: top;\n",
       "    }\n",
       "\n",
       "    .dataframe thead th {\n",
       "        text-align: right;\n",
       "    }\n",
       "</style>\n",
       "<table border=\"1\" class=\"dataframe\">\n",
       "  <thead>\n",
       "    <tr style=\"text-align: right;\">\n",
       "      <th></th>\n",
       "      <th>Age</th>\n",
       "      <th>Sex</th>\n",
       "      <th>Chest_Pain_Type</th>\n",
       "      <th>Resting_BP</th>\n",
       "      <th>Cholesterol</th>\n",
       "      <th>Fasting_BS</th>\n",
       "      <th>Resting_ECG</th>\n",
       "      <th>Max_HeartRate</th>\n",
       "      <th>Exercise_Angina</th>\n",
       "      <th>Oldpeak</th>\n",
       "      <th>ST Slope</th>\n",
       "      <th>Heart_Disease</th>\n",
       "    </tr>\n",
       "  </thead>\n",
       "  <tbody>\n",
       "    <tr>\n",
       "      <th>0</th>\n",
       "      <td>40</td>\n",
       "      <td>male</td>\n",
       "      <td>ATA</td>\n",
       "      <td>140</td>\n",
       "      <td>289</td>\n",
       "      <td>0</td>\n",
       "      <td>Normal</td>\n",
       "      <td>172</td>\n",
       "      <td>No</td>\n",
       "      <td>0.0</td>\n",
       "      <td>Up</td>\n",
       "      <td>Healthy</td>\n",
       "    </tr>\n",
       "    <tr>\n",
       "      <th>1</th>\n",
       "      <td>49</td>\n",
       "      <td>female</td>\n",
       "      <td>NAP</td>\n",
       "      <td>160</td>\n",
       "      <td>180</td>\n",
       "      <td>0</td>\n",
       "      <td>Normal</td>\n",
       "      <td>156</td>\n",
       "      <td>No</td>\n",
       "      <td>1.0</td>\n",
       "      <td>Flat</td>\n",
       "      <td>Sick</td>\n",
       "    </tr>\n",
       "    <tr>\n",
       "      <th>2</th>\n",
       "      <td>37</td>\n",
       "      <td>male</td>\n",
       "      <td>ATA</td>\n",
       "      <td>130</td>\n",
       "      <td>283</td>\n",
       "      <td>0</td>\n",
       "      <td>ST</td>\n",
       "      <td>98</td>\n",
       "      <td>No</td>\n",
       "      <td>0.0</td>\n",
       "      <td>Up</td>\n",
       "      <td>Healthy</td>\n",
       "    </tr>\n",
       "    <tr>\n",
       "      <th>3</th>\n",
       "      <td>48</td>\n",
       "      <td>female</td>\n",
       "      <td>ASY</td>\n",
       "      <td>138</td>\n",
       "      <td>214</td>\n",
       "      <td>0</td>\n",
       "      <td>Normal</td>\n",
       "      <td>108</td>\n",
       "      <td>Yes</td>\n",
       "      <td>1.5</td>\n",
       "      <td>Flat</td>\n",
       "      <td>Sick</td>\n",
       "    </tr>\n",
       "    <tr>\n",
       "      <th>4</th>\n",
       "      <td>54</td>\n",
       "      <td>male</td>\n",
       "      <td>NAP</td>\n",
       "      <td>150</td>\n",
       "      <td>195</td>\n",
       "      <td>0</td>\n",
       "      <td>Normal</td>\n",
       "      <td>122</td>\n",
       "      <td>No</td>\n",
       "      <td>0.0</td>\n",
       "      <td>Up</td>\n",
       "      <td>Healthy</td>\n",
       "    </tr>\n",
       "  </tbody>\n",
       "</table>\n",
       "</div>"
      ],
      "text/plain": [
       "   Age     Sex Chest_Pain_Type  Resting_BP  Cholesterol  Fasting_BS  \\\n",
       "0   40    male             ATA         140          289           0   \n",
       "1   49  female             NAP         160          180           0   \n",
       "2   37    male             ATA         130          283           0   \n",
       "3   48  female             ASY         138          214           0   \n",
       "4   54    male             NAP         150          195           0   \n",
       "\n",
       "  Resting_ECG  Max_HeartRate Exercise_Angina  Oldpeak ST Slope Heart_Disease  \n",
       "0      Normal            172              No      0.0       Up       Healthy  \n",
       "1      Normal            156              No      1.0     Flat          Sick  \n",
       "2          ST             98              No      0.0       Up       Healthy  \n",
       "3      Normal            108             Yes      1.5     Flat          Sick  \n",
       "4      Normal            122              No      0.0       Up       Healthy  "
      ]
     },
     "execution_count": 20,
     "metadata": {},
     "output_type": "execute_result"
    }
   ],
   "source": [
    "df.head()"
   ]
  },
  {
   "cell_type": "markdown",
   "id": "c5a18a80",
   "metadata": {},
   "source": [
    "In the cell bellow I made two lists one for categorical variales and one for the numerical variables.\n",
    "\n",
    "for efficient analysis"
   ]
  },
  {
   "cell_type": "code",
   "execution_count": 21,
   "id": "67a7e5cf",
   "metadata": {},
   "outputs": [],
   "source": [
    "categorical_vars = []\n",
    "numerical_vars = []\n",
    "\n",
    "for col in list(df.columns):\n",
    "    \n",
    "    if ((df[col].dtype == 'float64') | (df[col].dtype == 'int64')) & (df[col].nunique() > 10):\n",
    "        \n",
    "        numerical_vars.append(col)\n",
    "    \n",
    "    else: categorical_vars.append(col)"
   ]
  },
  {
   "cell_type": "code",
   "execution_count": 26,
   "id": "2d7e9923",
   "metadata": {},
   "outputs": [],
   "source": [
    "categorical_vars.remove(\"Heart_Disease\")"
   ]
  },
  {
   "cell_type": "code",
   "execution_count": 35,
   "id": "188ebe0c",
   "metadata": {},
   "outputs": [
    {
     "data": {
      "text/html": [
       "<div>\n",
       "<style scoped>\n",
       "    .dataframe tbody tr th:only-of-type {\n",
       "        vertical-align: middle;\n",
       "    }\n",
       "\n",
       "    .dataframe tbody tr th {\n",
       "        vertical-align: top;\n",
       "    }\n",
       "\n",
       "    .dataframe thead th {\n",
       "        text-align: right;\n",
       "    }\n",
       "</style>\n",
       "<table border=\"1\" class=\"dataframe\">\n",
       "  <thead>\n",
       "    <tr style=\"text-align: right;\">\n",
       "      <th></th>\n",
       "      <th>count</th>\n",
       "      <th>mean</th>\n",
       "      <th>std</th>\n",
       "      <th>min</th>\n",
       "      <th>25%</th>\n",
       "      <th>50%</th>\n",
       "      <th>75%</th>\n",
       "      <th>max</th>\n",
       "    </tr>\n",
       "  </thead>\n",
       "  <tbody>\n",
       "    <tr>\n",
       "      <th>Age</th>\n",
       "      <td>918.0</td>\n",
       "      <td>53.5</td>\n",
       "      <td>9.4</td>\n",
       "      <td>28.0</td>\n",
       "      <td>47.0</td>\n",
       "      <td>54.0</td>\n",
       "      <td>60.0</td>\n",
       "      <td>77.0</td>\n",
       "    </tr>\n",
       "    <tr>\n",
       "      <th>Resting_BP</th>\n",
       "      <td>918.0</td>\n",
       "      <td>132.4</td>\n",
       "      <td>18.5</td>\n",
       "      <td>0.0</td>\n",
       "      <td>120.0</td>\n",
       "      <td>130.0</td>\n",
       "      <td>140.0</td>\n",
       "      <td>200.0</td>\n",
       "    </tr>\n",
       "    <tr>\n",
       "      <th>Cholesterol</th>\n",
       "      <td>918.0</td>\n",
       "      <td>198.8</td>\n",
       "      <td>109.4</td>\n",
       "      <td>0.0</td>\n",
       "      <td>173.2</td>\n",
       "      <td>223.0</td>\n",
       "      <td>267.0</td>\n",
       "      <td>603.0</td>\n",
       "    </tr>\n",
       "    <tr>\n",
       "      <th>Max_HeartRate</th>\n",
       "      <td>918.0</td>\n",
       "      <td>136.8</td>\n",
       "      <td>25.5</td>\n",
       "      <td>60.0</td>\n",
       "      <td>120.0</td>\n",
       "      <td>138.0</td>\n",
       "      <td>156.0</td>\n",
       "      <td>202.0</td>\n",
       "    </tr>\n",
       "    <tr>\n",
       "      <th>Oldpeak</th>\n",
       "      <td>918.0</td>\n",
       "      <td>0.9</td>\n",
       "      <td>1.1</td>\n",
       "      <td>-2.6</td>\n",
       "      <td>0.0</td>\n",
       "      <td>0.6</td>\n",
       "      <td>1.5</td>\n",
       "      <td>6.2</td>\n",
       "    </tr>\n",
       "  </tbody>\n",
       "</table>\n",
       "</div>"
      ],
      "text/plain": [
       "               count   mean    std   min    25%    50%    75%    max\n",
       "Age            918.0   53.5    9.4  28.0   47.0   54.0   60.0   77.0\n",
       "Resting_BP     918.0  132.4   18.5   0.0  120.0  130.0  140.0  200.0\n",
       "Cholesterol    918.0  198.8  109.4   0.0  173.2  223.0  267.0  603.0\n",
       "Max_HeartRate  918.0  136.8   25.5  60.0  120.0  138.0  156.0  202.0\n",
       "Oldpeak        918.0    0.9    1.1  -2.6    0.0    0.6    1.5    6.2"
      ]
     },
     "execution_count": 35,
     "metadata": {},
     "output_type": "execute_result"
    }
   ],
   "source": [
    "df[numerical_vars].describe().T.round(1)"
   ]
  },
  {
   "cell_type": "markdown",
   "id": "46ae3e08",
   "metadata": {},
   "source": [
    "# Exploring Data with some Visualizations"
   ]
  },
  {
   "cell_type": "code",
   "execution_count": 240,
   "id": "941ee71e",
   "metadata": {
    "scrolled": false
   },
   "outputs": [
    {
     "data": {
      "image/png": "[encoded data removed]",
      "text/plain": [
       "<Figure size 1152x648 with 2 Axes>"
      ]
     },
     "metadata": {
      "needs_background": "light"
     },
     "output_type": "display_data"
    }
   ],
   "source": [
    "# HeatMap\n",
    "plt.figure(figsize=(16,9))\n",
    "x = df.drop(['Sex','Chest_Pain_Type','Resting_ECG','Exercise_Angina','ST Slope'],axis = 1)\n",
    "\n",
    "ax = sns.heatmap(x.corr(),annot = True)\n",
    "plt.show()"
   ]
  },
  {
   "cell_type": "markdown",
   "id": "38cdbea4",
   "metadata": {},
   "source": [
    "As we can see in the countplot below the male is significantly higher than the female"
   ]
  },
  {
   "cell_type": "code",
   "execution_count": 233,
   "id": "89221a72",
   "metadata": {},
   "outputs": [
    {
     "data": {
      "image/png": "[encoded data removed]",
      "text/plain": [
       "<Figure size 432x288 with 1 Axes>"
      ]
     },
     "metadata": {
      "needs_background": "light"
     },
     "output_type": "display_data"
    }
   ],
   "source": [
    "sns.countplot(x = df.Sex, alpha=0.6)\n",
    "plt.show()"
   ]
  },
  {
   "cell_type": "code",
   "execution_count": 256,
   "id": "26deb655",
   "metadata": {
    "scrolled": false
   },
   "outputs": [
    {
     "data": {
      "image/png": "[encoded data removed]",
      "text/plain": [
       "<Figure size 864x648 with 6 Axes>"
      ]
     },
     "metadata": {
      "needs_background": "light"
     },
     "output_type": "display_data"
    }
   ],
   "source": [
    "fig_1, ax_1 = plt.subplots(2, 3, figsize = (12, 9))\n",
    "\n",
    "for idx, (column, axes) in list(enumerate(zip(categorical_vars, ax_1.flatten()))):\n",
    "\n",
    "    count_plot = sns.countplot(ax        = axes, \n",
    "                               x         = df[column], \n",
    "                               hue       = df['Heart_Disease'], \n",
    "                               palette   = 'Set2', \n",
    "                               alpha     = 0.5, \n",
    "                               edgecolor = 'black')\n",
    "    \n",
    "    # we removed the legend from each plot because we added a Global Legend in the code below as you can see\n",
    "    axes.get_legend().remove()\n",
    "\n",
    "# added a global legend\n",
    "\n",
    "handles, labels = axes.get_legend_handles_labels()\n",
    "fig_1.legend(handles, labels, bbox_to_anchor = (0.5, 1.06), \n",
    "             ncol = 2, fontsize = 12,\n",
    "             title = 'Heart Disease') \n",
    "\n",
    "plt.tight_layout(pad = 2)\n",
    "plt.show()"
   ]
  },
  {
   "cell_type": "code",
   "execution_count": 250,
   "id": "05a068b8",
   "metadata": {},
   "outputs": [],
   "source": [
    "df2 = df.groupby('Sex').agg(\n",
    "    {'Age' : 'mean', \n",
    "     \"Chest_Pain_Type\":'count',\n",
    "     'Resting_BP':'mean',\n",
    "     'Cholesterol':'mean',\n",
    "     'Fasting_BS':'sum',\n",
    "     'Resting_ECG':'count',\n",
    "     'Max_HeartRate':'mean',\n",
    "     'Oldpeak':'mean',\n",
    "    })"
   ]
  },
  {
   "cell_type": "code",
   "execution_count": 252,
   "id": "55f661dc",
   "metadata": {},
   "outputs": [
    {
     "data": {
      "text/html": [
       "<div>\n",
       "<style scoped>\n",
       "    .dataframe tbody tr th:only-of-type {\n",
       "        vertical-align: middle;\n",
       "    }\n",
       "\n",
       "    .dataframe tbody tr th {\n",
       "        vertical-align: top;\n",
       "    }\n",
       "\n",
       "    .dataframe thead th {\n",
       "        text-align: right;\n",
       "    }\n",
       "</style>\n",
       "<table border=\"1\" class=\"dataframe\">\n",
       "  <thead>\n",
       "    <tr style=\"text-align: right;\">\n",
       "      <th></th>\n",
       "      <th>Age</th>\n",
       "      <th>Chest_Pain_Type</th>\n",
       "      <th>Resting_BP</th>\n",
       "      <th>Cholesterol</th>\n",
       "      <th>Fasting_BS</th>\n",
       "      <th>Resting_ECG</th>\n",
       "      <th>Max_HeartRate</th>\n",
       "      <th>Oldpeak</th>\n",
       "    </tr>\n",
       "    <tr>\n",
       "      <th>Sex</th>\n",
       "      <th></th>\n",
       "      <th></th>\n",
       "      <th></th>\n",
       "      <th></th>\n",
       "      <th></th>\n",
       "      <th></th>\n",
       "      <th></th>\n",
       "      <th></th>\n",
       "    </tr>\n",
       "  </thead>\n",
       "  <tbody>\n",
       "    <tr>\n",
       "      <th>female</th>\n",
       "      <td>52.492228</td>\n",
       "      <td>193</td>\n",
       "      <td>132.212435</td>\n",
       "      <td>241.196891</td>\n",
       "      <td>26</td>\n",
       "      <td>193</td>\n",
       "      <td>146.139896</td>\n",
       "      <td>0.668912</td>\n",
       "    </tr>\n",
       "    <tr>\n",
       "      <th>male</th>\n",
       "      <td>53.782069</td>\n",
       "      <td>725</td>\n",
       "      <td>132.445517</td>\n",
       "      <td>187.513103</td>\n",
       "      <td>188</td>\n",
       "      <td>725</td>\n",
       "      <td>134.325517</td>\n",
       "      <td>0.945517</td>\n",
       "    </tr>\n",
       "  </tbody>\n",
       "</table>\n",
       "</div>"
      ],
      "text/plain": [
       "              Age  Chest_Pain_Type  Resting_BP  Cholesterol  Fasting_BS  \\\n",
       "Sex                                                                       \n",
       "female  52.492228              193  132.212435   241.196891          26   \n",
       "male    53.782069              725  132.445517   187.513103         188   \n",
       "\n",
       "        Resting_ECG  Max_HeartRate   Oldpeak  \n",
       "Sex                                           \n",
       "female          193     146.139896  0.668912  \n",
       "male            725     134.325517  0.945517  "
      ]
     },
     "execution_count": 252,
     "metadata": {},
     "output_type": "execute_result"
    }
   ],
   "source": [
    "df2"
   ]
  },
  {
   "cell_type": "code",
   "execution_count": 179,
   "id": "cea0f67d",
   "metadata": {},
   "outputs": [
    {
     "data": {
      "image/png": "[encoded data removed]",
      "text/plain": [
       "<Figure size 432x288 with 1 Axes>"
      ]
     },
     "metadata": {
      "needs_background": "light"
     },
     "output_type": "display_data"
    }
   ],
   "source": [
    "# The distribution of age comlumn in df\n",
    "sns.histplot(df['Age'], kde=True,bins=25, stat='frequency');"
   ]
  },
  {
   "cell_type": "code",
   "execution_count": 219,
   "id": "9de54d8b",
   "metadata": {},
   "outputs": [
    {
     "data": {
      "text/html": [
       "<div>\n",
       "<style scoped>\n",
       "    .dataframe tbody tr th:only-of-type {\n",
       "        vertical-align: middle;\n",
       "    }\n",
       "\n",
       "    .dataframe tbody tr th {\n",
       "        vertical-align: top;\n",
       "    }\n",
       "\n",
       "    .dataframe thead th {\n",
       "        text-align: right;\n",
       "    }\n",
       "</style>\n",
       "<table border=\"1\" class=\"dataframe\">\n",
       "  <thead>\n",
       "    <tr style=\"text-align: right;\">\n",
       "      <th></th>\n",
       "      <th>Age</th>\n",
       "      <th>Sex</th>\n",
       "      <th>Chest_Pain_Type</th>\n",
       "      <th>Resting_BP</th>\n",
       "      <th>Cholesterol</th>\n",
       "      <th>Fasting_BS</th>\n",
       "      <th>Resting_ECG</th>\n",
       "      <th>Max_HeartRate</th>\n",
       "      <th>Exercise_Angina</th>\n",
       "      <th>Oldpeak</th>\n",
       "      <th>ST Slope</th>\n",
       "      <th>Heart_Disease</th>\n",
       "    </tr>\n",
       "  </thead>\n",
       "  <tbody>\n",
       "    <tr>\n",
       "      <th>776</th>\n",
       "      <td>62</td>\n",
       "      <td>female</td>\n",
       "      <td>ASY</td>\n",
       "      <td>150</td>\n",
       "      <td>244</td>\n",
       "      <td>0</td>\n",
       "      <td>Normal</td>\n",
       "      <td>154</td>\n",
       "      <td>Yes</td>\n",
       "      <td>1.4</td>\n",
       "      <td>Flat</td>\n",
       "      <td>Sick</td>\n",
       "    </tr>\n",
       "    <tr>\n",
       "      <th>563</th>\n",
       "      <td>55</td>\n",
       "      <td>male</td>\n",
       "      <td>ASY</td>\n",
       "      <td>135</td>\n",
       "      <td>204</td>\n",
       "      <td>1</td>\n",
       "      <td>ST</td>\n",
       "      <td>126</td>\n",
       "      <td>Yes</td>\n",
       "      <td>1.1</td>\n",
       "      <td>Flat</td>\n",
       "      <td>Sick</td>\n",
       "    </tr>\n",
       "    <tr>\n",
       "      <th>466</th>\n",
       "      <td>55</td>\n",
       "      <td>male</td>\n",
       "      <td>NAP</td>\n",
       "      <td>120</td>\n",
       "      <td>0</td>\n",
       "      <td>0</td>\n",
       "      <td>ST</td>\n",
       "      <td>125</td>\n",
       "      <td>Yes</td>\n",
       "      <td>2.5</td>\n",
       "      <td>Flat</td>\n",
       "      <td>Sick</td>\n",
       "    </tr>\n",
       "    <tr>\n",
       "      <th>782</th>\n",
       "      <td>53</td>\n",
       "      <td>male</td>\n",
       "      <td>NAP</td>\n",
       "      <td>130</td>\n",
       "      <td>197</td>\n",
       "      <td>1</td>\n",
       "      <td>LVH</td>\n",
       "      <td>152</td>\n",
       "      <td>No</td>\n",
       "      <td>1.2</td>\n",
       "      <td>Down</td>\n",
       "      <td>Healthy</td>\n",
       "    </tr>\n",
       "    <tr>\n",
       "      <th>445</th>\n",
       "      <td>55</td>\n",
       "      <td>male</td>\n",
       "      <td>NAP</td>\n",
       "      <td>136</td>\n",
       "      <td>228</td>\n",
       "      <td>0</td>\n",
       "      <td>ST</td>\n",
       "      <td>124</td>\n",
       "      <td>Yes</td>\n",
       "      <td>1.6</td>\n",
       "      <td>Flat</td>\n",
       "      <td>Sick</td>\n",
       "    </tr>\n",
       "  </tbody>\n",
       "</table>\n",
       "</div>"
      ],
      "text/plain": [
       "     Age     Sex Chest_Pain_Type  Resting_BP  Cholesterol  Fasting_BS  \\\n",
       "776   62  female             ASY         150          244           0   \n",
       "563   55    male             ASY         135          204           1   \n",
       "466   55    male             NAP         120            0           0   \n",
       "782   53    male             NAP         130          197           1   \n",
       "445   55    male             NAP         136          228           0   \n",
       "\n",
       "    Resting_ECG  Max_HeartRate Exercise_Angina  Oldpeak ST Slope Heart_Disease  \n",
       "776      Normal            154             Yes      1.4     Flat          Sick  \n",
       "563          ST            126             Yes      1.1     Flat          Sick  \n",
       "466          ST            125             Yes      2.5     Flat          Sick  \n",
       "782         LVH            152              No      1.2     Down       Healthy  \n",
       "445          ST            124             Yes      1.6     Flat          Sick  "
      ]
     },
     "execution_count": 219,
     "metadata": {},
     "output_type": "execute_result"
    }
   ],
   "source": [
    "df.sample(5)"
   ]
  },
  {
   "cell_type": "code",
   "execution_count": 241,
   "id": "e57fdee1",
   "metadata": {},
   "outputs": [],
   "source": [
    "Female_and_ChestPainType =  (df.Sex == \"female\") & (df.Heart_Disease == 'Healthy')\n",
    "Male_and_ChestPainType =  (df.Sex == \"male\") & (df.Heart_Disease == 'Healthy')"
   ]
  },
  {
   "cell_type": "markdown",
   "id": "3db11a86",
   "metadata": {},
   "source": [
    "# Patients who are healthy and female or male"
   ]
  },
  {
   "cell_type": "code",
   "execution_count": 242,
   "id": "f9d58ba2",
   "metadata": {},
   "outputs": [
    {
     "name": "stdout",
     "output_type": "stream",
     "text": [
      "The number of patients who are male and healthy is: 267\n",
      "The number of patients who are female and healthy is: 143\n"
     ]
    }
   ],
   "source": [
    "print(f\"The number of patients who are male and healthy is: {df[Male_and_ChestPainType].shape[0]}\")\n",
    "print(f\"The number of patients who are female and healthy is: {df[Female_and_ChestPainType].shape[0]}\")"
   ]
  },
  {
   "cell_type": "code",
   "execution_count": 259,
   "id": "9afab753",
   "metadata": {},
   "outputs": [
    {
     "data": {
      "text/plain": [
       "array([[<AxesSubplot:xlabel='Sex', ylabel='count'>,\n",
       "        <AxesSubplot:xlabel='Chest_Pain_Type', ylabel='count'>,\n",
       "        <AxesSubplot:xlabel='Fasting_BS', ylabel='count'>],\n",
       "       [<AxesSubplot:xlabel='Resting_ECG', ylabel='count'>,\n",
       "        <AxesSubplot:xlabel='Exercise_Angina', ylabel='count'>,\n",
       "        <AxesSubplot:xlabel='ST Slope', ylabel='count'>]], dtype=object)"
      ]
     },
     "execution_count": 259,
     "metadata": {},
     "output_type": "execute_result"
    }
   ],
   "source": [
    "ax_1"
   ]
  },
  {
   "cell_type": "code",
   "execution_count": null,
   "id": "e796d521",
   "metadata": {},
   "outputs": [],
   "source": []
  }
 ],
 "metadata": {
  "kernelspec": {
   "display_name": "Python 3 (ipykernel)",
   "language": "python",
   "name": "python3"
  },
  "language_info": {
   "codemirror_mode": {
    "name": "ipython",
    "version": 3
   },
   "file_extension": ".py",
   "mimetype": "text/x-python",
   "name": "python",
   "nbconvert_exporter": "python",
   "pygments_lexer": "ipython3",
   "version": "3.9.7"
  }
 },
 "nbformat": 4,
 "nbformat_minor": 5
}
